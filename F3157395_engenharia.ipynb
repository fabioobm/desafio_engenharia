{
  "metadata": {
    "kernelspec": {
      "name": "python",
      "display_name": "Python (Pyodide)",
      "language": "python"
    },
    "language_info": {
      "codemirror_mode": {
        "name": "python",
        "version": 3
      },
      "file_extension": ".py",
      "mimetype": "text/x-python",
      "name": "python",
      "nbconvert_exporter": "python",
      "pygments_lexer": "ipython3",
      "version": "3.8"
    },
    "colab": {
      "provenance": [],
      "include_colab_link": true
    }
  },
  "nbformat_minor": 5,
  "nbformat": 4,
  "cells": [
    {
      "cell_type": "markdown",
      "metadata": {
        "id": "view-in-github",
        "colab_type": "text"
      },
      "source": [
        "<a href=\"https://colab.research.google.com/github/fabioobm/desafio_engenharia/blob/main/F3157395_engenharia.ipynb\" target=\"_parent\"><img src=\"https://colab.research.google.com/assets/colab-badge.svg\" alt=\"Open In Colab\"/></a>"
      ]
    },
    {
      "cell_type": "markdown",
      "source": [
        "# Identificação do participante\n",
        "\n",
        "Preencha a célula abaixo com sua matrícula no formato F + 7 algarismos, sem dígito verificador.\n",
        "\n",
        "Exemplo:\n",
        "\n",
        "    chaveF = \"F1234567\""
      ],
      "metadata": {
        "id": "12c66376-3398-4026-a393-14779d9808bd"
      },
      "id": "12c66376-3398-4026-a393-14779d9808bd"
    },
    {
      "cell_type": "code",
      "source": [
        "chaveF = \"F3157395\""
      ],
      "metadata": {
        "tags": [],
        "id": "b08cd02a-a955-46a3-ba14-3022c52f5db5"
      },
      "execution_count": 1,
      "outputs": [],
      "id": "b08cd02a-a955-46a3-ba14-3022c52f5db5"
    },
    {
      "cell_type": "markdown",
      "source": [
        "# Desafio Engenharia de Dados\n",
        "\n",
        "A Dipes precisa fazer o acompanhamento do cumprimento dos indicadores de algumas Unidades Estratégicas e solicitou à UAN o desenvolvimento de um dashboard. Os colegas da equipe de Dataviz identificaram a necessidade de <b>disponibilização de algumas bases de dados</b> para desenvolvimento do dashboard, principalmente para o acompanhamento das <b>Trilhas de Capacitação</b> das Unidades Estratégicas:\n",
        "\n",
        "|PREFIXO|SIGLA|\n",
        "|---|---|\n",
        "|8008|DIREC|\n",
        "|8556|DICRE|\n",
        "|8559|DIPES|\n",
        "|8593|DIGOV|\n",
        "|9797|UCI|\n",
        "|9880|DIMEP|\n",
        "|9968|UAN|\n",
        "|9973|DIEMP|\n",
        "\n",
        "A equipe de Engenharia de Dados foi então acionada para preparação das bases de dados conforme abaixo detalhado.\n",
        "\n",
        "<b>Dados essenciais:</b>\n",
        "- acompanhamento do cumprimento do indicador de capacitação por matrícula dos funcionários das Diretorias alvo da análise\n",
        "- acompanhamento do cumprimento por UOR das Unidades Estratégicas, contendo a Vice-Presidência jurisdicionante\n",
        "\n",
        "Além disso, a equipe de Dataviz solicitou que a equipe de engenharia reunisse algumas informações úteis para análise e levantamento de insights, tais como:\n",
        "- dados de função, escolaridade, idade, tempo de banco e estado civil de cada funcionário das dependências citadas.\n",
        "- detalhamentos sobre a área dos cursos que os funcionários concluíram nos últimos 3 anos para identificação do perfil."
      ],
      "metadata": {
        "id": "cb711518-fbff-4a4d-97db-9379e9a80acf"
      },
      "id": "cb711518-fbff-4a4d-97db-9379e9a80acf"
    },
    {
      "cell_type": "markdown",
      "source": [
        "# Orientações Gerais:\n",
        "\n",
        "1) Inclua sua matrícula na seção de Identificação, no início deste Notebook.\n",
        "\n",
        "2) **Link para envio das soluções:**\n",
        "\n",
        "- https://envio-academiabb.bb.com.br/\n",
        "\n",
        "    - **Atenção:** não serão acatadas outras formas de envio. O link acima permite acesso com senha de portais externos.\n",
        "\n",
        "3) Selecione a Trilha Engenharia ao enviar.\n",
        "\n",
        "**Nome do arquivo:** cada participante deverá baixar o presente arquivo e renomeá-lo de modo a conter:\n",
        "\n",
        "- A matrícula com F maiúsculo, sete algarismos e sem dígito (FXXXXXXX)\n",
        "\n",
        "- A trilha a qual a entrega se refere em letras minúsculas: engenharia\n",
        "\n",
        "- O nome não deve conter espaços em branco. Substitua-os por “_”.\n",
        "\n",
        "- O versionamento será gerado automaticamente na subida do arquivo, por meio do timestamp do envio.\n",
        "\n",
        "    - Exemplo1: F1234567_engenharia.ipynb\n",
        "\n",
        "    - Exemplo2: F1234567_engenharia_v3.ipynb\n",
        "\n",
        "**Formato:** .ipynb\n",
        "\n",
        "- **Atenção:** não carregar nenhum outro formato de arquivo, pois será ignorado\n",
        "\n",
        "**Prazo final:** até às 18h (horário de Brasília) do dia 20/09/2024.\n",
        "\n",
        "## Requerimentos de versões\n",
        "\n",
        "Para construção do desafio em qualquer ambiente diferente do [labblite](https://labblite.bb.com.br/), deverão ser utilizadas as versões de biblioteca abaixo especificadas:\n",
        "\n",
        "|Biblioteca|Versão|\n",
        "|---|---|\n",
        "|pandas|1.5.2 ou inferior|\n",
        "|numpy|1.23.5 ou inferior|\n",
        "|unidecode|1.3.8 ou inferior|\n",
        "|pathlib|sem indicativo de versão|\n",
        "|glob|sem indicativo de versão|\n",
        "\n",
        "Essas versões são padrão no labblite, e você pode checar após importação da biblioteca por meio da instrução:\n",
        "    \n",
        "    print(nome_biblioteca. __version__)\n",
        "\n",
        "Caso identifique a necessidade de utilização de alguma biblioteca diferente das listadas acima, entre em contato com a comissão organizadora para verificar a possibilidade de utilização no script, sob o risco de gerar erros durante a validação.\n",
        "\n",
        "## Pode:\n",
        "\n",
        "- Inserir células no notebook.\n",
        "\n",
        "    Obs: as células adicionadas após a seção do Boletim de Soluções não surtirão efeitos para fins de validação dos resultados dos exercícios propostos.\n",
        "\n",
        "- Fazer vários envios (tantos quantos forem necessários).\n",
        "\n",
        "- Nas máquinas do Banco, desenvolver na plataforma [Labblite](https://labblite.bb.com.br/)\n",
        "\n",
        "- O participante que optar por desenvolver no computador pessoal, poderá utilizar qualquer plataforma que permita a execução de scripts em Python, desde que atente para as versões das bibliotecas mencionadas na seção \"Requerimentos de versões\" acima especificada.\n",
        "    \n",
        "    Atenção: consulte as versões homologadas pelo Banco no aplicativo <b>BB Verifica Software</b> antes de instalar qualquer aplicativo nas máquinas corporativas.\n",
        "\n",
        "## Não pode:\n",
        "\n",
        "- Compartilhar arquivos/código, sob pena de desclassificação de todas as partes envolvidas.\n",
        "\n",
        "- Alterar as bases de dados disponibilizadas. Os itens contidos na pasta “bases” devem permanecer inalterados quanto a:\n",
        "    - Nome e tipo dos arquivos/pastas\n",
        "    - Conteúdo\n",
        "    - Estrutura das pastas iniciando em “bases”\n",
        "\n",
        "- Descompactar os arquivos correspondentes às bases de dados. Os arquivos disponibilizados no formato .zip deverão ser lidos nesse mesmo formato.\n",
        "\n",
        "- Gerar arquivos de qualquer formato durante a execução, com exceção daqueles gerados pelo Boletim de Soluções.\n",
        "\n",
        "- Utilizar outros arquivos além dos disponibilizados no pacote do desafio do Eixo Temático Engenharia de Dados.\n",
        "\n",
        "- Excluir ou alterar linhas do Boletim de Soluções (exceto quando explicitamente orientado pela comissão organizadora do Programa).\n",
        "\n",
        "- Apresentar erros no código no momento da validação.\n",
        "\n",
        "- O tempo total de execução do notebook não poderá exceder 2 minutos.\n",
        "\n",
        "- Importar bibliotecas no código enviado para validação. Caso necessite instalar bibliotecas durante o desenvolvimento da solução, as linhas deverão ser comentadas antes do envio, sob o risco de apresentar erros ou exceder o tempo de execução do notebook durante a validação dos exercícios.\n",
        "    \n",
        "    *Atenção:* as bibliotecas mapeadas estarão previamente instaladas no ambiente de execução da solução validadora. Caso identifique a necessidade de utilizar alguma biblioteca diferente das mencionadas na seção \"Requerimentos de versões\", entre em contato com a comissão organizadora para verificar a viabilidade de utilização.\n",
        "\n",
        "## Geras para o Nome Físico das colunas\n",
        "\n",
        "- Observe atentamente a documentação constante no enunciado de cada exercício, para evitar apontamentos nas verificações.\n",
        "\n",
        "- A ordem dos atributos deverá ser obedecida na construção dos DataFrames.\n",
        "\n",
        "- A nomenclatura de todos os campos dos DataFrames deverá seguir o padrão de nomenclatura do Banco, conforme consulta disponível no Glossário.\n",
        "\n",
        "- O nome físico não deve conter espaços, devendo as abreviações ser separadas por “_”.\n",
        "\n",
        "- Todas as palavras do Nome Lógico deverão ser abreviadas, com exceção apenas das preposições (ex.: de, com, para, até, etc.).\n",
        "\n",
        "- Ao consultar o Glossário, é importante atentar para a existência de palavras compostas, que devem ser abreviadas juntas.\n",
        "\n",
        "## Demais recomendações/Orientações\n",
        "\n",
        "- Leia atentamente o enunciado dos exercícios. Eventuais cálculos, formatações, filtros, transformações ou arredondamentos dos dados serão detalhados na descrição de cada atributo.\n",
        "\n",
        "- Verifique o indicativo de nível de dificuldade e de ordem de solução dos exercícios, pois alguns têm como requisito a conclusão de algum exercício anterior na íntegra.\n",
        "\n",
        "- Não se esqueça de salvar seu projeto! Sugerimos fazer vários versionamentos dos arquivos, para não correr riscos de perder alterações e para ter um backup, caso algo não saia como o planejado.\n",
        "\n",
        "- Não se assuste com os apontamentos de erros durante o desenvolvimento dos exercícios. Observe as orientações e dicas para solucioná-los com maior assertividade.\n",
        "\n",
        "- Ao fazer junção de tabelas, não se esqueça de conferir as quantidades de linhas e colunas das tabelas originais e tenha sempre em mente o seu objetivo antes de escolher o método de junção (interna, esquerda, direita ou total).\n",
        "\n",
        "- Ao copiar variáveis, utilize preferencialmente o método copy() para evitar corromper as variáveis que serão utilizadas para conferência dos exercícios.\n",
        "\n",
        "- Faça envios parciais, tantos quanto for necessário. Não há limite de quantidade de envios. O ideal é submeter seu notebook a cada exercício concluído, para evitar acúmulo de apontamentos na validação.\n",
        "\n",
        "- Execute o Notebook na íntegra antes de efetuar seus envios para testar o tempo de execução e a ocorrência de erros, mesmo que ainda não tenha finalizado todos os exercícios.\n",
        "\n",
        "- Utilize o Boletim de Soluções ao final do Notebook Modelo para checar a existência das variáveis de cada exercício. Não se esqueça de informar a sua chave F (chaveF) na seção de Identificação.\n",
        "\n",
        "- Após execução na íntegra do seu notebook, visualize suas variáveis finais, aquelas que serão utilizadas para correção dos exercícios, para chegar eventuais alterações indesejadas nas variáveis. Exemplo:\n",
        "    \n",
        "        exercicio1.info()\n",
        "        exercicio2.info()\n",
        "\n",
        "\n",
        "**Atenção:** encorajamos a colaboração entre os participantes, porém sempre no sentido de ajudar os demais a chegarem à resposta, nunca respondendo diretamente às perguntas ou compartilhando os arquivos/código."
      ],
      "metadata": {
        "tags": [],
        "jp-MarkdownHeadingCollapsed": true,
        "id": "6ecac00e-cfb2-4265-a22c-d16134d44987"
      },
      "id": "6ecac00e-cfb2-4265-a22c-d16134d44987"
    },
    {
      "cell_type": "markdown",
      "source": [
        "# Importar bibliotecas\n",
        "\n",
        "Use esse espaço para importar as bibliotecas necessárias para execução do seu notebook.\n",
        "\n",
        "Lembrando que eventuais instalações de bibliotecas durante o desenvolvimento deverão ser retiradas ou comentadas antes do envio."
      ],
      "metadata": {
        "tags": [],
        "id": "5b670427-6706-4282-aeb2-bf3bb7a148a9"
      },
      "id": "5b670427-6706-4282-aeb2-bf3bb7a148a9"
    },
    {
      "cell_type": "code",
      "source": [
        "# Atenção, somente descomente as células abaixo caso não esteja desenvolvendo no labblite\n",
        "# após instalação, comente novamente as células\n",
        "\n",
        "#!pip3 install --force-reinstall --user pandas==1.5.2\n",
        "#!pip3 install --force-reinstall --user numpy==1.23.5\n",
        "#!pip3 install --force-reinstall --user unidecode==1.3.8"
      ],
      "metadata": {
        "trusted": true,
        "colab": {
          "base_uri": "https://localhost:8080/",
          "height": 1000
        },
        "id": "2ff68ebe-4639-4157-a3ee-23697430471c",
        "outputId": "0817c9ac-e7fb-4040-f8e5-6a84deb7d6bd"
      },
      "execution_count": null,
      "outputs": [
        {
          "output_type": "stream",
          "name": "stdout",
          "text": [
            "Collecting pandas==1.5.2\n",
            "  Downloading pandas-1.5.2-cp310-cp310-manylinux_2_17_x86_64.manylinux2014_x86_64.whl.metadata (11 kB)\n",
            "Collecting python-dateutil>=2.8.1 (from pandas==1.5.2)\n",
            "  Downloading python_dateutil-2.9.0.post0-py2.py3-none-any.whl.metadata (8.4 kB)\n",
            "Collecting pytz>=2020.1 (from pandas==1.5.2)\n",
            "  Using cached pytz-2024.1-py2.py3-none-any.whl.metadata (22 kB)\n",
            "Collecting numpy>=1.21.0 (from pandas==1.5.2)\n",
            "  Downloading numpy-2.1.0-cp310-cp310-manylinux_2_17_x86_64.manylinux2014_x86_64.whl.metadata (60 kB)\n",
            "\u001b[2K     \u001b[90m━━━━━━━━━━━━━━━━━━━━━━━━━━━━━━━━━━━━━━━━\u001b[0m \u001b[32m60.9/60.9 kB\u001b[0m \u001b[31m1.1 MB/s\u001b[0m eta \u001b[36m0:00:00\u001b[0m\n",
            "\u001b[?25hCollecting six>=1.5 (from python-dateutil>=2.8.1->pandas==1.5.2)\n",
            "  Using cached six-1.16.0-py2.py3-none-any.whl.metadata (1.8 kB)\n",
            "Downloading pandas-1.5.2-cp310-cp310-manylinux_2_17_x86_64.manylinux2014_x86_64.whl (12.1 MB)\n",
            "\u001b[2K   \u001b[90m━━━━━━━━━━━━━━━━━━━━━━━━━━━━━━━━━━━━━━━━\u001b[0m \u001b[32m12.1/12.1 MB\u001b[0m \u001b[31m32.3 MB/s\u001b[0m eta \u001b[36m0:00:00\u001b[0m\n",
            "\u001b[?25hDownloading numpy-2.1.0-cp310-cp310-manylinux_2_17_x86_64.manylinux2014_x86_64.whl (16.3 MB)\n",
            "\u001b[2K   \u001b[90m━━━━━━━━━━━━━━━━━━━━━━━━━━━━━━━━━━━━━━━━\u001b[0m \u001b[32m16.3/16.3 MB\u001b[0m \u001b[31m53.8 MB/s\u001b[0m eta \u001b[36m0:00:00\u001b[0m\n",
            "\u001b[?25hDownloading python_dateutil-2.9.0.post0-py2.py3-none-any.whl (229 kB)\n",
            "\u001b[2K   \u001b[90m━━━━━━━━━━━━━━━━━━━━━━━━━━━━━━━━━━━━━━━━\u001b[0m \u001b[32m229.9/229.9 kB\u001b[0m \u001b[31m9.0 MB/s\u001b[0m eta \u001b[36m0:00:00\u001b[0m\n",
            "\u001b[?25hUsing cached pytz-2024.1-py2.py3-none-any.whl (505 kB)\n",
            "Using cached six-1.16.0-py2.py3-none-any.whl (11 kB)\n",
            "Installing collected packages: pytz, six, numpy, python-dateutil, pandas\n",
            "\u001b[33m  WARNING: The scripts f2py and numpy-config are installed in '/root/.local/bin' which is not on PATH.\n",
            "  Consider adding this directory to PATH or, if you prefer to suppress this warning, use --no-warn-script-location.\u001b[0m\u001b[33m\n",
            "\u001b[0m\u001b[31mERROR: pip's dependency resolver does not currently take into account all the packages that are installed. This behaviour is the source of the following dependency conflicts.\n",
            "xgboost 2.1.1 requires nvidia-nccl-cu12; platform_system == \"Linux\" and platform_machine != \"aarch64\", which is not installed.\n",
            "accelerate 0.32.1 requires numpy<2.0.0,>=1.17, but you have numpy 2.1.0 which is incompatible.\n",
            "albucore 0.0.13 requires numpy<2,>=1.24.4, but you have numpy 2.1.0 which is incompatible.\n",
            "arviz 0.18.0 requires numpy<2.0,>=1.23.0, but you have numpy 2.1.0 which is incompatible.\n",
            "cudf-cu12 24.4.1 requires numpy<2.0a0,>=1.23, but you have numpy 2.1.0 which is incompatible.\n",
            "cudf-cu12 24.4.1 requires pandas<2.2.2dev0,>=2.0, but you have pandas 1.5.2 which is incompatible.\n",
            "cupy-cuda12x 12.2.0 requires numpy<1.27,>=1.20, but you have numpy 2.1.0 which is incompatible.\n",
            "gensim 4.3.3 requires numpy<2.0,>=1.18.5, but you have numpy 2.1.0 which is incompatible.\n",
            "google-colab 1.0.0 requires pandas==2.1.4, but you have pandas 1.5.2 which is incompatible.\n",
            "ibis-framework 8.0.0 requires numpy<2,>=1, but you have numpy 2.1.0 which is incompatible.\n",
            "numba 0.60.0 requires numpy<2.1,>=1.22, but you have numpy 2.1.0 which is incompatible.\n",
            "rmm-cu12 24.4.0 requires numpy<2.0a0,>=1.23, but you have numpy 2.1.0 which is incompatible.\n",
            "scikit-learn 1.3.2 requires numpy<2.0,>=1.17.3, but you have numpy 2.1.0 which is incompatible.\n",
            "tensorflow 2.17.0 requires numpy<2.0.0,>=1.23.5; python_version <= \"3.11\", but you have numpy 2.1.0 which is incompatible.\n",
            "thinc 8.2.5 requires numpy<2.0.0,>=1.19.0; python_version >= \"3.9\", but you have numpy 2.1.0 which is incompatible.\n",
            "transformers 4.42.4 requires numpy<2.0,>=1.17, but you have numpy 2.1.0 which is incompatible.\n",
            "xarray 2024.6.0 requires pandas>=2.0, but you have pandas 1.5.2 which is incompatible.\u001b[0m\u001b[31m\n",
            "\u001b[0mSuccessfully installed numpy-2.1.0 pandas-1.5.2 python-dateutil-2.9.0.post0 pytz-2024.1 six-1.16.0\n"
          ]
        },
        {
          "output_type": "display_data",
          "data": {
            "application/vnd.colab-display-data+json": {
              "pip_warning": {
                "packages": [
                  "dateutil",
                  "six"
                ]
              },
              "id": "2996f4afc3624bf1bbc9eab9d9e8b551"
            }
          },
          "metadata": {}
        },
        {
          "output_type": "stream",
          "name": "stdout",
          "text": [
            "Collecting numpy==1.23.5\n",
            "  Downloading numpy-1.23.5-cp310-cp310-manylinux_2_17_x86_64.manylinux2014_x86_64.whl.metadata (2.3 kB)\n",
            "Downloading numpy-1.23.5-cp310-cp310-manylinux_2_17_x86_64.manylinux2014_x86_64.whl (17.1 MB)\n",
            "\u001b[2K   \u001b[90m━━━━━━━━━━━━━━━━━━━━━━━━━━━━━━━━━━━━━━━━\u001b[0m \u001b[32m17.1/17.1 MB\u001b[0m \u001b[31m57.2 MB/s\u001b[0m eta \u001b[36m0:00:00\u001b[0m\n",
            "\u001b[?25hInstalling collected packages: numpy\n",
            "  Attempting uninstall: numpy\n",
            "    Found existing installation: numpy 2.1.0\n",
            "    Uninstalling numpy-2.1.0:\n",
            "      Successfully uninstalled numpy-2.1.0\n",
            "\u001b[33m  WARNING: The scripts f2py, f2py3 and f2py3.10 are installed in '/root/.local/bin' which is not on PATH.\n",
            "  Consider adding this directory to PATH or, if you prefer to suppress this warning, use --no-warn-script-location.\u001b[0m\u001b[33m\n",
            "\u001b[0m\u001b[31mERROR: pip's dependency resolver does not currently take into account all the packages that are installed. This behaviour is the source of the following dependency conflicts.\n",
            "xgboost 2.1.1 requires nvidia-nccl-cu12; platform_system == \"Linux\" and platform_machine != \"aarch64\", which is not installed.\n",
            "albucore 0.0.13 requires numpy<2,>=1.24.4, but you have numpy 1.23.5 which is incompatible.\n",
            "albumentations 1.4.13 requires numpy>=1.24.4, but you have numpy 1.23.5 which is incompatible.\n",
            "chex 0.1.86 requires numpy>=1.24.1, but you have numpy 1.23.5 which is incompatible.\n",
            "cudf-cu12 24.4.1 requires pandas<2.2.2dev0,>=2.0, but you have pandas 1.5.2 which is incompatible.\n",
            "google-colab 1.0.0 requires pandas==2.1.4, but you have pandas 1.5.2 which is incompatible.\n",
            "pandas-stubs 2.1.4.231227 requires numpy>=1.26.0; python_version < \"3.13\", but you have numpy 1.23.5 which is incompatible.\n",
            "xarray 2024.6.0 requires pandas>=2.0, but you have pandas 1.5.2 which is incompatible.\u001b[0m\u001b[31m\n",
            "\u001b[0mSuccessfully installed numpy-1.23.5\n"
          ]
        },
        {
          "output_type": "display_data",
          "data": {
            "application/vnd.colab-display-data+json": {
              "pip_warning": {
                "packages": [
                  "numpy"
                ]
              },
              "id": "45051e5912fd401cba2fae393813cd68"
            }
          },
          "metadata": {}
        },
        {
          "output_type": "stream",
          "name": "stdout",
          "text": [
            "Collecting unidecode==1.3.8\n",
            "  Downloading Unidecode-1.3.8-py3-none-any.whl.metadata (13 kB)\n",
            "Downloading Unidecode-1.3.8-py3-none-any.whl (235 kB)\n",
            "\u001b[?25l   \u001b[90m━━━━━━━━━━━━━━━━━━━━━━━━━━━━━━━━━━━━━━━━\u001b[0m \u001b[32m0.0/235.5 kB\u001b[0m \u001b[31m?\u001b[0m eta \u001b[36m-:--:--\u001b[0m\r\u001b[2K   \u001b[91m━━━━━━━━━━━━━━━━━━━━━━━━━━━━━━━━━━━━━━\u001b[0m\u001b[90m╺\u001b[0m\u001b[90m━\u001b[0m \u001b[32m225.3/235.5 kB\u001b[0m \u001b[31m7.3 MB/s\u001b[0m eta \u001b[36m0:00:01\u001b[0m\r\u001b[2K   \u001b[90m━━━━━━━━━━━━━━━━━━━━━━━━━━━━━━━━━━━━━━━━\u001b[0m \u001b[32m235.5/235.5 kB\u001b[0m \u001b[31m5.0 MB/s\u001b[0m eta \u001b[36m0:00:00\u001b[0m\n",
            "\u001b[?25hInstalling collected packages: unidecode\n",
            "\u001b[33m  WARNING: The script unidecode is installed in '/root/.local/bin' which is not on PATH.\n",
            "  Consider adding this directory to PATH or, if you prefer to suppress this warning, use --no-warn-script-location.\u001b[0m\u001b[33m\n",
            "\u001b[0mSuccessfully installed unidecode-1.3.8\n"
          ]
        }
      ],
      "id": "2ff68ebe-4639-4157-a3ee-23697430471c"
    },
    {
      "cell_type": "code",
      "source": [
        "# as celulas abaixo referem-se a instalação e importação de bibliotecas para desenvolvimento da solução\n",
        "# favor não alterar esta célula sem antes consultar a comissão organizadora\n",
        "\n",
        "try:\n",
        "    import micropip\n",
        "    await micropip.install('pandas')\n",
        "    import pandas as pd\n",
        "    await micropip.install('unidecode')\n",
        "    from unidecode import unidecode\n",
        "    await micropip.install('numpy')\n",
        "    import numpy as np\n",
        "    import warnings\n",
        "    warnings.filterwarnings(\"ignore\")\n",
        "    from pathlib import Path\n",
        "    import glob\n",
        "\n",
        "    mensagem = \"Importações de bibliotecas executadas com sucesso\"\n",
        "except:\n",
        "    try:\n",
        "        import pandas as pd\n",
        "        from unidecode import unidecode\n",
        "        import numpy as np\n",
        "        import warnings\n",
        "        warnings.filterwarnings(\"ignore\")\n",
        "        from pathlib import Path\n",
        "        import glob\n",
        "\n",
        "        mensagem = \"Importações de bibliotecas executadas com sucesso\"\n",
        "    except Exception as e:\n",
        "        mensagem = f\"{e.args[0]} \\nImportações de bibliotecas não executada\"\n",
        "finally:\n",
        "    print(mensagem)"
      ],
      "metadata": {
        "trusted": true,
        "colab": {
          "base_uri": "https://localhost:8080/"
        },
        "id": "0451d52b-b87e-4b7a-8e1f-a2e02d52ead3",
        "outputId": "3ec038cc-7e8b-45f4-b520-1b63ec393c40"
      },
      "execution_count": null,
      "outputs": [
        {
          "output_type": "stream",
          "name": "stdout",
          "text": [
            "Importações de bibliotecas executadas com sucesso\n"
          ]
        }
      ],
      "id": "0451d52b-b87e-4b7a-8e1f-a2e02d52ead3"
    },
    {
      "cell_type": "code",
      "source": [],
      "metadata": {
        "id": "b80386bd-184a-4ece-89a0-829b1dfba6b9"
      },
      "execution_count": null,
      "outputs": [],
      "id": "b80386bd-184a-4ece-89a0-829b1dfba6b9"
    },
    {
      "cell_type": "markdown",
      "source": [
        "# Exercício 1 - Tabela de Vínculo entre as Unidades Organizacionais\n",
        "\n",
        "<b>Nível de dificuldade:</b> 1\n",
        "\n",
        "<b>Ordem:</b> qualquer\n",
        "\n",
        "Criar um DataFrame Pandas chamado <b>exercicio1</b> com a tabela que contém o vínculo entre as UORs do Banco.\n",
        "\n",
        "Na tabela abaixo especificamos as <b>informações descritivas</b> (nome, formato dos dados, etc.) dos atributos (colunas) que deverão constar no dataframe resultante:\n",
        "\n",
        "||Nome Lógico|Nome Físico|Formato|Descrição|Aceita Nulos|Tabela Origem|Atributo Origem|\n",
        "|---|---|---|---|---|---|---|---|\n",
        "|1|Código da Unidade Organizacional Vinculada|CD_UOR_VCLD|Int64|Código identificador de Unidade Organizacional (UOR) vinculada ou JURISDICIONADA.|N|VCL_UOR|CD_UOR_VCLD\n",
        "|2|Código do Tipo de Vínculo|CD_TIP_VCL|Int64|Código identificador do Tipo de Vínculo ou JURISDIÇÃO utilizado para a vinculação entre Unidades Organizacionais.|N|VCL_UOR|CD_TIP_VCL\n",
        "|3|Código da Unidade Organizacional Vinculadora|CD_UOR_VCLR|Int64|Código identificador da Unidade Organizacional vinculadora ou JURISDICIONANTE, conforme determinado Tipo de Vínculo ou jurisdição.|N|VCL_UOR|CD_UOR_VCLR\n",
        "|4|Número do Intervalo de Nível Hierárquico|NR_ITVL_NVL_HRQO|Int64|Representa o intervalo de nível hierárquico entre a UOR Vinculada e a UOR Vinculadora. A partir deste atributo, é possível saber quantos níveis acima ou abaixo encontra-se uma UOR Vinculadora em relação à UOR Vinculada.|S|VCL_UOR|NR_ITVL_NVL_HRQO\n",
        "\n",
        "Ao final do exerício, o resultado da consulta do cabeçado (<b>.head()</b>) do dataframe exercicio1 deverá seguir a estrutura abaixo exemplificada:\n",
        "\n",
        "- código a ser executado:\n",
        "\n",
        "\n",
        "    <i>exercicio1.head()</i>\n",
        "\n",
        "- exemplo de resultado do código acima com valores fictícios:\n",
        "\n",
        "||CD_UOR_VCLD|CD_TIP_VCL|CD_UOR_VCL|NR_ITVL_NVL_HRQO|\n",
        "|---|---|---|---|---|\n",
        "|0|9999|99|1111|&lt;NA&gt;|\n",
        "|1|9999|101|2222|&lt;NA&gt;|\n",
        "|2|9999|1100|3333|&lt;NA&gt;|\n",
        "|3|9999|1200|4444|&lt;NA&gt;|\n",
        "|34|9999|1220|5555|&lt;NA&gt;|\n",
        "\n",
        "   \n",
        "<b>Regra:</b> a ordem das colunas deverá obedecer à ordem da tabela de informações descritivas constante do enunciado.\n",
        "\n",
        "<b>Dica 1:</b> verifique o <b>Vocabulário de Termos</b> anexo para saber mais sobre o termo <b>&lt;NA&gt;</b> e o tipo <b>Int64</b>.\n",
        "\n",
        "<b>Dica 2:</b> os registros nulos somente deverão ser tratados quando expressamente orientado no enunciado do exercício."
      ],
      "metadata": {
        "tags": [],
        "id": "c7e43ed0-b939-4458-ab6e-57f6b75abebf"
      },
      "id": "c7e43ed0-b939-4458-ab6e-57f6b75abebf"
    },
    {
      "cell_type": "code",
      "source": [
        "exercicio1 = pd.read_csv(\"https://raw.githubusercontent.com/fabioobm/desafio_engenharia/main/bases/VCL_UOR.csv\", sep=\";\")"
      ],
      "metadata": {
        "id": "4cc3e85a-2819-4351-8db2-7619f0c23f10"
      },
      "execution_count": null,
      "outputs": [],
      "id": "4cc3e85a-2819-4351-8db2-7619f0c23f10"
    },
    {
      "cell_type": "raw",
      "source": [],
      "metadata": {
        "id": "ee968682-be2e-4747-8dcf-6f00bf4f6007"
      },
      "id": "ee968682-be2e-4747-8dcf-6f00bf4f6007"
    },
    {
      "cell_type": "code",
      "source": [
        "exercicio1.head()"
      ],
      "metadata": {
        "colab": {
          "base_uri": "https://localhost:8080/",
          "height": 206
        },
        "id": "7d48260c-25d0-4c99-9772-faa8f8950703",
        "outputId": "b3dfde78-cae9-4997-e20e-e4ceda5e3387"
      },
      "execution_count": null,
      "outputs": [
        {
          "output_type": "execute_result",
          "data": {
            "text/plain": [
              "   CD_UOR_VCLD  CD_TIP_VCL  CD_UOR_VCLR  NR_ITVL_NVL_HRQO\n",
              "0         9598          99         4924               NaN\n",
              "1         9598         101         9598               NaN\n",
              "2         9598        1060        38047               NaN\n",
              "3         9598        1090         7638               NaN\n",
              "4         9598        1100         1993               NaN"
            ],
            "text/html": [
              "\n",
              "  <div id=\"df-d47e8e70-5433-4474-b4cf-b151d462ff70\" class=\"colab-df-container\">\n",
              "    <div>\n",
              "<style scoped>\n",
              "    .dataframe tbody tr th:only-of-type {\n",
              "        vertical-align: middle;\n",
              "    }\n",
              "\n",
              "    .dataframe tbody tr th {\n",
              "        vertical-align: top;\n",
              "    }\n",
              "\n",
              "    .dataframe thead th {\n",
              "        text-align: right;\n",
              "    }\n",
              "</style>\n",
              "<table border=\"1\" class=\"dataframe\">\n",
              "  <thead>\n",
              "    <tr style=\"text-align: right;\">\n",
              "      <th></th>\n",
              "      <th>CD_UOR_VCLD</th>\n",
              "      <th>CD_TIP_VCL</th>\n",
              "      <th>CD_UOR_VCLR</th>\n",
              "      <th>NR_ITVL_NVL_HRQO</th>\n",
              "    </tr>\n",
              "  </thead>\n",
              "  <tbody>\n",
              "    <tr>\n",
              "      <th>0</th>\n",
              "      <td>9598</td>\n",
              "      <td>99</td>\n",
              "      <td>4924</td>\n",
              "      <td>NaN</td>\n",
              "    </tr>\n",
              "    <tr>\n",
              "      <th>1</th>\n",
              "      <td>9598</td>\n",
              "      <td>101</td>\n",
              "      <td>9598</td>\n",
              "      <td>NaN</td>\n",
              "    </tr>\n",
              "    <tr>\n",
              "      <th>2</th>\n",
              "      <td>9598</td>\n",
              "      <td>1060</td>\n",
              "      <td>38047</td>\n",
              "      <td>NaN</td>\n",
              "    </tr>\n",
              "    <tr>\n",
              "      <th>3</th>\n",
              "      <td>9598</td>\n",
              "      <td>1090</td>\n",
              "      <td>7638</td>\n",
              "      <td>NaN</td>\n",
              "    </tr>\n",
              "    <tr>\n",
              "      <th>4</th>\n",
              "      <td>9598</td>\n",
              "      <td>1100</td>\n",
              "      <td>1993</td>\n",
              "      <td>NaN</td>\n",
              "    </tr>\n",
              "  </tbody>\n",
              "</table>\n",
              "</div>\n",
              "    <div class=\"colab-df-buttons\">\n",
              "\n",
              "  <div class=\"colab-df-container\">\n",
              "    <button class=\"colab-df-convert\" onclick=\"convertToInteractive('df-d47e8e70-5433-4474-b4cf-b151d462ff70')\"\n",
              "            title=\"Convert this dataframe to an interactive table.\"\n",
              "            style=\"display:none;\">\n",
              "\n",
              "  <svg xmlns=\"http://www.w3.org/2000/svg\" height=\"24px\" viewBox=\"0 -960 960 960\">\n",
              "    <path d=\"M120-120v-720h720v720H120Zm60-500h600v-160H180v160Zm220 220h160v-160H400v160Zm0 220h160v-160H400v160ZM180-400h160v-160H180v160Zm440 0h160v-160H620v160ZM180-180h160v-160H180v160Zm440 0h160v-160H620v160Z\"/>\n",
              "  </svg>\n",
              "    </button>\n",
              "\n",
              "  <style>\n",
              "    .colab-df-container {\n",
              "      display:flex;\n",
              "      gap: 12px;\n",
              "    }\n",
              "\n",
              "    .colab-df-convert {\n",
              "      background-color: #E8F0FE;\n",
              "      border: none;\n",
              "      border-radius: 50%;\n",
              "      cursor: pointer;\n",
              "      display: none;\n",
              "      fill: #1967D2;\n",
              "      height: 32px;\n",
              "      padding: 0 0 0 0;\n",
              "      width: 32px;\n",
              "    }\n",
              "\n",
              "    .colab-df-convert:hover {\n",
              "      background-color: #E2EBFA;\n",
              "      box-shadow: 0px 1px 2px rgba(60, 64, 67, 0.3), 0px 1px 3px 1px rgba(60, 64, 67, 0.15);\n",
              "      fill: #174EA6;\n",
              "    }\n",
              "\n",
              "    .colab-df-buttons div {\n",
              "      margin-bottom: 4px;\n",
              "    }\n",
              "\n",
              "    [theme=dark] .colab-df-convert {\n",
              "      background-color: #3B4455;\n",
              "      fill: #D2E3FC;\n",
              "    }\n",
              "\n",
              "    [theme=dark] .colab-df-convert:hover {\n",
              "      background-color: #434B5C;\n",
              "      box-shadow: 0px 1px 3px 1px rgba(0, 0, 0, 0.15);\n",
              "      filter: drop-shadow(0px 1px 2px rgba(0, 0, 0, 0.3));\n",
              "      fill: #FFFFFF;\n",
              "    }\n",
              "  </style>\n",
              "\n",
              "    <script>\n",
              "      const buttonEl =\n",
              "        document.querySelector('#df-d47e8e70-5433-4474-b4cf-b151d462ff70 button.colab-df-convert');\n",
              "      buttonEl.style.display =\n",
              "        google.colab.kernel.accessAllowed ? 'block' : 'none';\n",
              "\n",
              "      async function convertToInteractive(key) {\n",
              "        const element = document.querySelector('#df-d47e8e70-5433-4474-b4cf-b151d462ff70');\n",
              "        const dataTable =\n",
              "          await google.colab.kernel.invokeFunction('convertToInteractive',\n",
              "                                                    [key], {});\n",
              "        if (!dataTable) return;\n",
              "\n",
              "        const docLinkHtml = 'Like what you see? Visit the ' +\n",
              "          '<a target=\"_blank\" href=https://colab.research.google.com/notebooks/data_table.ipynb>data table notebook</a>'\n",
              "          + ' to learn more about interactive tables.';\n",
              "        element.innerHTML = '';\n",
              "        dataTable['output_type'] = 'display_data';\n",
              "        await google.colab.output.renderOutput(dataTable, element);\n",
              "        const docLink = document.createElement('div');\n",
              "        docLink.innerHTML = docLinkHtml;\n",
              "        element.appendChild(docLink);\n",
              "      }\n",
              "    </script>\n",
              "  </div>\n",
              "\n",
              "\n",
              "<div id=\"df-f59efc48-06a5-4fe4-8da5-5f45711f702e\">\n",
              "  <button class=\"colab-df-quickchart\" onclick=\"quickchart('df-f59efc48-06a5-4fe4-8da5-5f45711f702e')\"\n",
              "            title=\"Suggest charts\"\n",
              "            style=\"display:none;\">\n",
              "\n",
              "<svg xmlns=\"http://www.w3.org/2000/svg\" height=\"24px\"viewBox=\"0 0 24 24\"\n",
              "     width=\"24px\">\n",
              "    <g>\n",
              "        <path d=\"M19 3H5c-1.1 0-2 .9-2 2v14c0 1.1.9 2 2 2h14c1.1 0 2-.9 2-2V5c0-1.1-.9-2-2-2zM9 17H7v-7h2v7zm4 0h-2V7h2v10zm4 0h-2v-4h2v4z\"/>\n",
              "    </g>\n",
              "</svg>\n",
              "  </button>\n",
              "\n",
              "<style>\n",
              "  .colab-df-quickchart {\n",
              "      --bg-color: #E8F0FE;\n",
              "      --fill-color: #1967D2;\n",
              "      --hover-bg-color: #E2EBFA;\n",
              "      --hover-fill-color: #174EA6;\n",
              "      --disabled-fill-color: #AAA;\n",
              "      --disabled-bg-color: #DDD;\n",
              "  }\n",
              "\n",
              "  [theme=dark] .colab-df-quickchart {\n",
              "      --bg-color: #3B4455;\n",
              "      --fill-color: #D2E3FC;\n",
              "      --hover-bg-color: #434B5C;\n",
              "      --hover-fill-color: #FFFFFF;\n",
              "      --disabled-bg-color: #3B4455;\n",
              "      --disabled-fill-color: #666;\n",
              "  }\n",
              "\n",
              "  .colab-df-quickchart {\n",
              "    background-color: var(--bg-color);\n",
              "    border: none;\n",
              "    border-radius: 50%;\n",
              "    cursor: pointer;\n",
              "    display: none;\n",
              "    fill: var(--fill-color);\n",
              "    height: 32px;\n",
              "    padding: 0;\n",
              "    width: 32px;\n",
              "  }\n",
              "\n",
              "  .colab-df-quickchart:hover {\n",
              "    background-color: var(--hover-bg-color);\n",
              "    box-shadow: 0 1px 2px rgba(60, 64, 67, 0.3), 0 1px 3px 1px rgba(60, 64, 67, 0.15);\n",
              "    fill: var(--button-hover-fill-color);\n",
              "  }\n",
              "\n",
              "  .colab-df-quickchart-complete:disabled,\n",
              "  .colab-df-quickchart-complete:disabled:hover {\n",
              "    background-color: var(--disabled-bg-color);\n",
              "    fill: var(--disabled-fill-color);\n",
              "    box-shadow: none;\n",
              "  }\n",
              "\n",
              "  .colab-df-spinner {\n",
              "    border: 2px solid var(--fill-color);\n",
              "    border-color: transparent;\n",
              "    border-bottom-color: var(--fill-color);\n",
              "    animation:\n",
              "      spin 1s steps(1) infinite;\n",
              "  }\n",
              "\n",
              "  @keyframes spin {\n",
              "    0% {\n",
              "      border-color: transparent;\n",
              "      border-bottom-color: var(--fill-color);\n",
              "      border-left-color: var(--fill-color);\n",
              "    }\n",
              "    20% {\n",
              "      border-color: transparent;\n",
              "      border-left-color: var(--fill-color);\n",
              "      border-top-color: var(--fill-color);\n",
              "    }\n",
              "    30% {\n",
              "      border-color: transparent;\n",
              "      border-left-color: var(--fill-color);\n",
              "      border-top-color: var(--fill-color);\n",
              "      border-right-color: var(--fill-color);\n",
              "    }\n",
              "    40% {\n",
              "      border-color: transparent;\n",
              "      border-right-color: var(--fill-color);\n",
              "      border-top-color: var(--fill-color);\n",
              "    }\n",
              "    60% {\n",
              "      border-color: transparent;\n",
              "      border-right-color: var(--fill-color);\n",
              "    }\n",
              "    80% {\n",
              "      border-color: transparent;\n",
              "      border-right-color: var(--fill-color);\n",
              "      border-bottom-color: var(--fill-color);\n",
              "    }\n",
              "    90% {\n",
              "      border-color: transparent;\n",
              "      border-bottom-color: var(--fill-color);\n",
              "    }\n",
              "  }\n",
              "</style>\n",
              "\n",
              "  <script>\n",
              "    async function quickchart(key) {\n",
              "      const quickchartButtonEl =\n",
              "        document.querySelector('#' + key + ' button');\n",
              "      quickchartButtonEl.disabled = true;  // To prevent multiple clicks.\n",
              "      quickchartButtonEl.classList.add('colab-df-spinner');\n",
              "      try {\n",
              "        const charts = await google.colab.kernel.invokeFunction(\n",
              "            'suggestCharts', [key], {});\n",
              "      } catch (error) {\n",
              "        console.error('Error during call to suggestCharts:', error);\n",
              "      }\n",
              "      quickchartButtonEl.classList.remove('colab-df-spinner');\n",
              "      quickchartButtonEl.classList.add('colab-df-quickchart-complete');\n",
              "    }\n",
              "    (() => {\n",
              "      let quickchartButtonEl =\n",
              "        document.querySelector('#df-f59efc48-06a5-4fe4-8da5-5f45711f702e button');\n",
              "      quickchartButtonEl.style.display =\n",
              "        google.colab.kernel.accessAllowed ? 'block' : 'none';\n",
              "    })();\n",
              "  </script>\n",
              "</div>\n",
              "\n",
              "    </div>\n",
              "  </div>\n"
            ],
            "application/vnd.google.colaboratory.intrinsic+json": {
              "type": "dataframe",
              "variable_name": "exercicio1",
              "summary": "{\n  \"name\": \"exercicio1\",\n  \"rows\": 40869,\n  \"fields\": [\n    {\n      \"column\": \"CD_UOR_VCLD\",\n      \"properties\": {\n        \"dtype\": \"number\",\n        \"std\": 13574,\n        \"min\": 4923,\n        \"max\": 88333,\n        \"num_unique_values\": 1451,\n        \"samples\": [\n          69583,\n          56852,\n          62251\n        ],\n        \"semantic_type\": \"\",\n        \"description\": \"\"\n      }\n    },\n    {\n      \"column\": \"CD_TIP_VCL\",\n      \"properties\": {\n        \"dtype\": \"number\",\n        \"std\": 3087,\n        \"min\": 99,\n        \"max\": 9250,\n        \"num_unique_values\": 113,\n        \"samples\": [\n          3166,\n          1100,\n          9202\n        ],\n        \"semantic_type\": \"\",\n        \"description\": \"\"\n      }\n    },\n    {\n      \"column\": \"CD_UOR_VCLR\",\n      \"properties\": {\n        \"dtype\": \"number\",\n        \"std\": 20041,\n        \"min\": 1,\n        \"max\": 88328,\n        \"num_unique_values\": 521,\n        \"samples\": [\n          75688,\n          74241,\n          5032\n        ],\n        \"semantic_type\": \"\",\n        \"description\": \"\"\n      }\n    },\n    {\n      \"column\": \"NR_ITVL_NVL_HRQO\",\n      \"properties\": {\n        \"dtype\": \"number\",\n        \"std\": 1.7852251812462097,\n        \"min\": 1.0,\n        \"max\": 8.0,\n        \"num_unique_values\": 8,\n        \"samples\": [\n          4.0,\n          6.0,\n          1.0\n        ],\n        \"semantic_type\": \"\",\n        \"description\": \"\"\n      }\n    }\n  ]\n}"
            }
          },
          "metadata": {},
          "execution_count": 5
        }
      ],
      "id": "7d48260c-25d0-4c99-9772-faa8f8950703"
    },
    {
      "cell_type": "code",
      "source": [],
      "metadata": {
        "id": "c7EbGchxMTOC"
      },
      "id": "c7EbGchxMTOC",
      "execution_count": null,
      "outputs": []
    },
    {
      "cell_type": "code",
      "source": [],
      "metadata": {
        "id": "35c11c2f-6eba-463d-9020-5f7bf7676784"
      },
      "execution_count": null,
      "outputs": [],
      "id": "35c11c2f-6eba-463d-9020-5f7bf7676784"
    },
    {
      "cell_type": "code",
      "source": [],
      "metadata": {
        "id": "22f31329-1147-49a4-8fd7-a40a9a6ca7c7"
      },
      "execution_count": null,
      "outputs": [],
      "id": "22f31329-1147-49a4-8fd7-a40a9a6ca7c7"
    },
    {
      "cell_type": "markdown",
      "source": [
        "# Exercício 2 - Tabela de Unidades Organizacionais (UOR) do BB\n",
        "\n",
        "<b>Nível de dificuldade (1 a 5):</b> 2\n",
        "\n",
        "<b>Ordem:</b> qualquer\n",
        "\n",
        "Criar um DataFrame Pandas chamado <b>exercicio2</b> com a tabela UORs do BB, conforme detalhado abaixo:\n",
        "\n",
        "||Nome Lógico|Nome Físico|Formato|Descrição|Aceita Nulos|Tabela Origem|Atributo Origem|\n",
        "|---|---|---|---|---|---|---|---|\n",
        "|1|Código da Unidade Organizacional|CD_UOR|Int64|Código identificador de Unidade Organizacional (UOR) do conglomerado Banco do Brasil (no Brasil e Exterior) ou UOR externas que o BB tenha algum tipo de relacionamento ou interesse em identificá-las.|N|UOR|CD_UOR\n",
        "|2|Nome da Unidade Organizacional Reduzido|NM_UOR_RDZ|object|Nome reduzido da Unidade Organizacional.|N|UOR|NM_UOR_RDZ\n",
        "|3|Sigla da Unidade Organizacional|SG_UOR|object|Reunião das letras iniciais dos vocábulos fundamentais de uma denominação ou título, sem articulação prosódica, constituindo meras abreviaturas. Ex.: \"DITEC\", \"GBASE\", \"DIREO\", \"PRESI\", etc.|S|UOR|SG_UOR\n",
        "|4|Data Início de Validade|DT_INC_VLD|datetime64[ns]|Data em que o registro passa a ter validade (geralmente coincide com a data de inclusão).  Formato \"AAAA-MM-DD\".|N|UOR|DT_INC_VLD\n",
        "|5|Código do Item da Arquitetura da Unidade Organizacional|CD_ITEM_AQTT_UOR|Int64|Código identificador dos Itens de Arquitetura que existem em uma Instituição Organizacional para orientação da estrutura das Unidades Organizacionais (oriundo do sistema IOR).|N|UOR|CD_ITEM_AQTT_UOR\n",
        "|6|Código do Tipo da Unidade Organizacional|CD_TIP_UOR|Int64|Código identificador dos Tipos nos quais as Unidades Organizacionais podem ser classificadas. Ex.: \"001 - Governo\" \"003 - Canal de Atendimento\",  \"004 - Dependências BB\",  \"005 - Exterior\" etc. |N|UOR|CD_TIP_UOR\n",
        "|7|Código da Dependência da Unidade Organizacional|CD_DEPE_UOR|Int64|Código identificador de Dependências de Instituições Organizacionais. No BB atualmente é utilizado os domínios entre 1 e 9999.Ex.: \"0001 - Ag. Rio de Janeiro\", \"4886 - Ag. Estilo Alvorada-Brasília\"|N|UOR|CD_DEPE_UOR\n",
        "|8|Número da Ordem da Dependência Subordinada|NR_ORD_DEPE_SBDD|Int64|Número identificador de subordinação de uma dependência de IOR's que possuam em sua organização subdependências ou subordinadas. 0 indica a UOR principal da dependência|N|UOR|NR_ORD_DEPE_SBDD\n",
        "\n",
        "<b>Regra 1:</b> considere apenas as UORs da Instituição Organizacional \"Banco do Brasil\".\n",
        "\n",
        "<b>Regra 2:</b> considere apenas as UORs \"em funcionamento\".\n",
        "\n",
        "<b>Dica: </b>atenção para o formato da data.\n"
      ],
      "metadata": {
        "tags": [],
        "id": "250c21fe-1ebc-45e0-bb8d-7a28ec1ffa2b"
      },
      "id": "250c21fe-1ebc-45e0-bb8d-7a28ec1ffa2b"
    },
    {
      "cell_type": "code",
      "source": [],
      "metadata": {
        "id": "440cd86f-4aee-43a7-8a42-652ec36b019f"
      },
      "execution_count": null,
      "outputs": [],
      "id": "440cd86f-4aee-43a7-8a42-652ec36b019f"
    },
    {
      "cell_type": "code",
      "source": [],
      "metadata": {
        "id": "4516e089-dbca-4aa8-97d7-80e1f4503f8c"
      },
      "execution_count": null,
      "outputs": [],
      "id": "4516e089-dbca-4aa8-97d7-80e1f4503f8c"
    },
    {
      "cell_type": "code",
      "source": [],
      "metadata": {
        "id": "17dd6a85-c9ac-4e8f-9f77-1f40f5174495"
      },
      "execution_count": null,
      "outputs": [],
      "id": "17dd6a85-c9ac-4e8f-9f77-1f40f5174495"
    },
    {
      "cell_type": "markdown",
      "source": [
        "# Exercício 3 - Tabela de cursos realizados por funcionário\n",
        "\n",
        "<b>Nível de dificuldade (1 a 5):</b> 1\n",
        "\n",
        "<b>Ordem:</b> qualquer\n",
        "\n",
        "Criar um DataFrame Pandas chamado <b>exercicio3</b> com a tabela dos cursos realizados pelos funcionários, conforme detalhado abaixo:\n",
        "\n",
        "||Nome Lógico|Nome Físico|Formato|Descrição|Aceita Nulos|Tabela Origem|Atributo Origem|\n",
        "|---|---|---|---|---|---|---|---|\n",
        "|1|Codigo de matricula do funcionario|?|Int64|Código da matrícula do funcionário. |N|?|?|\n",
        "|2|Código do Curso|?|Int64|Identificador do curso. Campo numérico de 7 posições. |N|?|?|\n",
        "|3|Data final do curso|?|datetime64[ns]|Data que identifica a finalizaçao do curso. Formato \"AAAA-MM-DD\".|N|?|?|\n",
        "|4|Codigo de origem do curso|?|Int64|O conteudo deste campo indentificara a origem do curso. Exemplo: 01-ARH, 02-GTD, 03-PFP, 04-ALURA, 05-UNIBB, 17-SYNAPSE|N|?|?|\n",
        "\n",
        "<b>Dica 1:</b> para construir o nome físico das tabelas, consulte as abreviações no Glossário de Termos.\n",
        "\n",
        "<b>Dica 2:</b> atenção para o formato da matrícula."
      ],
      "metadata": {
        "tags": [],
        "id": "f11cfd26-6749-4ddd-a479-b0656ebcd517"
      },
      "id": "f11cfd26-6749-4ddd-a479-b0656ebcd517"
    },
    {
      "cell_type": "code",
      "source": [],
      "metadata": {
        "id": "aee7e25d-8783-47e8-bd0a-a181f547fd0d"
      },
      "execution_count": null,
      "outputs": [],
      "id": "aee7e25d-8783-47e8-bd0a-a181f547fd0d"
    },
    {
      "cell_type": "code",
      "source": [],
      "metadata": {
        "id": "4aab7c59-b722-4911-9665-58e008fd1a88"
      },
      "execution_count": null,
      "outputs": [],
      "id": "4aab7c59-b722-4911-9665-58e008fd1a88"
    },
    {
      "cell_type": "code",
      "source": [],
      "metadata": {
        "id": "0b63fb37-5c1a-4523-88cf-276792efdcff"
      },
      "execution_count": null,
      "outputs": [],
      "id": "0b63fb37-5c1a-4523-88cf-276792efdcff"
    },
    {
      "cell_type": "code",
      "source": [],
      "metadata": {
        "id": "edcd62cd-148e-4a78-bad8-8552ae9d6d6c"
      },
      "execution_count": null,
      "outputs": [],
      "id": "edcd62cd-148e-4a78-bad8-8552ae9d6d6c"
    },
    {
      "cell_type": "code",
      "source": [],
      "metadata": {
        "id": "fa1dafc4-d10d-4f09-a56c-4cf9b57a3798"
      },
      "execution_count": null,
      "outputs": [],
      "id": "fa1dafc4-d10d-4f09-a56c-4cf9b57a3798"
    },
    {
      "cell_type": "markdown",
      "source": [
        "# Exercício 4 - Tabela de cadastro dos funcionários\n",
        "\n",
        "<b>Nível de dificuldade (1 a 5):</b> 2\n",
        "\n",
        "<b>Ordem:</b> qualquer\n",
        "\n",
        "Criar um DataFrame Pandas chamado <b>exercicio4</b> com a tabela de cadastro dos funcionários, conforme detalhado abaixo:\n",
        "\n",
        "||Nome Lógico|Nome Físico|Formato|Descrição|Aceita Nulos|Tabela Origem|Atributo Origem|\n",
        "|---|---|---|---|---|---|---|---|\n",
        "|1|Codigo de matricula do funcionario|?|Int64|Código da matrícula (F) do funcionário. |N|CAD_FUN|?\n",
        "|2|Nome do funcionário|?|object|Nome do funcionário cadastrado no ARH. Formato: caixa alta, sem acentuação.|N|CAD_FUN|?\n",
        "|3|Sigla do Tipo do Estado Civil|?|object|Sigla ARH que define o estado civil do funcionário. |N|CAD_FUN|?\n",
        "|4|Código do Tipo de Nível de Instrução|?|Int64|Código ARH do nível de instrução. |N|CAD_FUN|?\n",
        "|5|Data de nascimento|?|datetime64[ns]|Data de nascimento. Formato \"AAAA-MM-DD\".|N|CAD_FUN|?\n",
        "|6|Código do Tipo de Gênero|?|Int64|Código ARH do sexo/gênero. 1 -Masculino, 2 - Feminino.|N|CAD_FUN|?\n",
        "|7|Código do Prefixo da Dependência de Localização|?|Int64|Código do prefixo da dependência de localização (UOR). |N|CAD_FUN|?\n",
        "|8|Código de Função ou Cargo Efetiva|?|Int64|Código ARH da função ou cargo efetivo. Exemplo: 610 - ESCRITURARIO, 12381 - ASSESSOR II UE etc. |N|CAD_FUN|?\n",
        "|9|Data de Posse na Localização|?|datetime64[ns]|Data de posse na dependência de localização (UOR).  Formato \"AAAA-MM-DD\".|N|CAD_FUN|?\n",
        "|10|Data de posse no BB|?|datetime64[ns]|Data de posse no Banco do Brasil. Formato \"AAAA-MM-DD\".|N|CAD_FUN|?\n",
        "\n",
        "<b>Dica:</b> atenção para a formatação do nome."
      ],
      "metadata": {
        "tags": [],
        "id": "bb4c5b31-3082-4bb2-9bb8-16fe19787204"
      },
      "id": "bb4c5b31-3082-4bb2-9bb8-16fe19787204"
    },
    {
      "cell_type": "code",
      "source": [],
      "metadata": {
        "id": "79d4aaf5-889e-4241-9e37-df3492e089b2"
      },
      "execution_count": null,
      "outputs": [],
      "id": "79d4aaf5-889e-4241-9e37-df3492e089b2"
    },
    {
      "cell_type": "code",
      "source": [],
      "metadata": {
        "id": "eb1f7a24-7fca-4613-bedf-a2ab2e973efd"
      },
      "execution_count": null,
      "outputs": [],
      "id": "eb1f7a24-7fca-4613-bedf-a2ab2e973efd"
    },
    {
      "cell_type": "code",
      "source": [],
      "metadata": {
        "id": "d11c9ed1-4d1c-4a3e-ba7e-1781086851e1"
      },
      "execution_count": null,
      "outputs": [],
      "id": "d11c9ed1-4d1c-4a3e-ba7e-1781086851e1"
    },
    {
      "cell_type": "markdown",
      "source": [
        "# Exercício 5 - Incremento da tabela de cadastro de funcionários\n",
        "\n",
        "<b>Nível de dificuldade (1 a 5):</b> 3\n",
        "\n",
        "<b>Requisitos:</b> exercício 4\n",
        "\n",
        "Criar um DataFrame Pandas chamado <b>exercicio5</b> contendo os campos adicionais do cadastro do funcionários, conforme abaixo detalhado:\n",
        "\n",
        "||Nome Lógico|Nome Físico|Formato|Descrição|Aceita Nulos|Tabela Origem|Atributo Origem|\n",
        "|---|---|---|---|---|---|---|---|\n",
        "|1|Codigo de matricula do funcionario|?|Int64|Código da matrícula (F) do funcionário. |N|?|?|\n",
        "|2|Nome do funcionário|?|object|Nome do funcionário cadastrado no ARH. Formato: caixa alta, sem acentuação.|N|?|?|\n",
        "|3|Código de Função ou Cargo Efetiva|?|Int64|Código ARH da função ou cargo efetivo. Exemplo: 610, 12381, etc. |N|?|?|\n",
        "|4|Nome da Função ou Cargo Efetivo|?|object|Nome da função ou cargo efetivo. Exemplo: 610 - ESCRITURARIO, 12381 - ASSESSOR II UE etc. |S|?|?|\n",
        "|5|Código do Prefixo da Dependência de Localização|?|Int64|Código do prefixo da dependência de localização (UOR). |N|?|?|\n",
        "|6|Data de Posse na Localização|?|datetime64[ns]|Data de posse na dependência de localização (UOR).  Formato \"AAAA-MM-DD\".|N|?|?|\n",
        "|7|Data de posse no BB|?|datetime64[ns]|Data de posse no Banco do Brasil. Formato \"AAAA-MM-DD\".|N|?|?|\n",
        "|8|Data de nascimento|?|datetime64[ns]|Data de nascimento. Formato \"AAAA-MM-DD\".|N|?|?|\n",
        "|9|Código do Tipo de Gênero|?|Int64|Código ARH do sexo/gênero. 1 -Masculino, 2 - Feminino.|N|?|?|\n",
        "|10|Sigla do Tipo do Estado Civil|?|object|Sigla ARH que define o estado civil do funcionário. |N|?|?|\n",
        "|11|Nome do Tipo de Estado Civil|?|object|Descrição do estado civil do funcionário. |N|?|?|\n",
        "|12|Código do Tipo de Nível de Instrução|?|Int64|Código ARH do nível de instrução. |N|?|?|\n",
        "|13|Nome do Tipo de Nível de Instrução|?|object|Descrição do nível de instrução. |N|?|?|\n",
        "\n",
        "<b>Regra 1:</b> para a descrição do estado civil, considere os valores abaixo:\n",
        "\n",
        "|Cod.|Descrição|\n",
        "|---|---|\n",
        "|1|SOLTEIRO(A)|\n",
        "|2|CASADO(A)|\n",
        "|3|CASADO(A) COM FUNCIONARIA(O)|\n",
        "|4|VIUVO(A)|\n",
        "|5|SEPARADO(A) JUDICIAL OU EXTRAJ|\n",
        "|8|DIVORCIADO(A)|\n",
        "|M|SEPARADO(A) CONSENSUALMENTE|\n",
        "\n",
        "<b>Regra 2:</b> para a descrição do nível de instrução, considere os valores abaixo:\n",
        "\n",
        "|Cod.|Descrição|\n",
        "|---|---|\n",
        "|1|ENSINO FUNDAMENTAL|\n",
        "|2|ENSINO MEDIO|\n",
        "|3|SUPERIOR EM ANDAMENTO|\n",
        "|4|SUPERIOR SEQUENCIAL|\n",
        "|5|SUPERIOR GRADUACAO|\n",
        "|6|POS-GRADUACAO-APERFEIC|\n",
        "|7|POS-GRADUCAO-ESPEC|\n",
        "|8|MESTRADO|\n",
        "|9|DOUTORADO|"
      ],
      "metadata": {
        "tags": [],
        "id": "29404859-efcc-4b9a-8fd5-adeb8d837e49"
      },
      "id": "29404859-efcc-4b9a-8fd5-adeb8d837e49"
    },
    {
      "cell_type": "code",
      "source": [],
      "metadata": {
        "id": "9af727e8-0958-4281-a27b-474013a58940"
      },
      "execution_count": null,
      "outputs": [],
      "id": "9af727e8-0958-4281-a27b-474013a58940"
    },
    {
      "cell_type": "code",
      "source": [],
      "metadata": {
        "id": "6b2d5cf9-37cd-455a-a329-8f7d06b6bc16"
      },
      "execution_count": null,
      "outputs": [],
      "id": "6b2d5cf9-37cd-455a-a329-8f7d06b6bc16"
    },
    {
      "cell_type": "code",
      "source": [],
      "metadata": {
        "id": "43f9eda3-30e7-4433-9f44-e67f55e2e583"
      },
      "execution_count": null,
      "outputs": [],
      "id": "43f9eda3-30e7-4433-9f44-e67f55e2e583"
    },
    {
      "cell_type": "code",
      "source": [],
      "metadata": {
        "id": "399f13e1-a79e-4879-92f9-11c280bf13e1"
      },
      "execution_count": null,
      "outputs": [],
      "id": "399f13e1-a79e-4879-92f9-11c280bf13e1"
    },
    {
      "cell_type": "markdown",
      "source": [
        "# Exercício 6 - Tabela Catálogo de Cursos\n",
        "\n",
        "<b>Nível de dificuldade (1 a 5):</b> 3\n",
        "\n",
        "<b>Ordem:</b> qualquer\n",
        "\n",
        "Criar um DataFrame Pandas chamado <b>exercicio6</b> contendo o catálodo de cursos e formações do Banco, conforme abaixo:\n",
        "\n",
        "||Nome Lógico|Nome Físico|Formato|Descrição|Aceita Nulos|Tabela Origem|Atributo Origem|\n",
        "|---|---|---|---|---|---|---|---|\n",
        "|1|Código do Curso|?|Int64|Identificador do curso. Campo numérico de 7 posições. |N|?|?|\n",
        "|2|Nome do Curso|?|object|Nome genérico do curso. |N|?|?|\n",
        "|3|Texto do Curso|?|object|Breve descrição do assunto abordado pelo curso. |N|?|?|\n",
        "|4|Texto do Objetivo do Curso|?|object|Texto que descreve o objetivo do curso. |N|?|?|\n",
        "|5|Texto do Desempenho Esperado|?|object|Texto que descreve o desempenho esperado no curso para o treinando. |S|?|?|\n",
        "|6|Texto do Objetivo Estratégico|?|object|Texto que descreve quais são os objetivos estratégicos do curso. |S|?|?|\n",
        "|7|Código da Área de Conhecimento|?|Int64|Código da área de conhecimento do curso. Campo numérico de 3. Exemplo: Área: 170 (Será este atributo) Subárea: 170.050 conhecimento: 170.050.0025.|S|?|?|\n",
        "|8|Nome da Área de Conhecimento|?|object|Descrição da área de conhecimento do curso.|S|?|?|\n",
        "|9|Código da Sub Área de Conhecimento|?|Int64|Código da sub-área do conhecimento. Exemplo: Área: 170 Subárea: 170.050 (Será o 050) conhecimento: 170.050.0025.|S|?|?|\n",
        "|10|Nome da Sub Área de Conhecimento|?|object|Descrição da sub-área do conhecimento.|S|?|?|\n",
        "|11|Código do Conhecimento do Curso|?|Int64|Código do conhecimento. Identifica o conhecimento do curso.|N|?|?|\n",
        "|12|Nome do Conhecimento do Curso|?|object|Descrição do conhecimento do curso.|S|?|?|\n",
        "|13|Quantidade de Carga Horária do Curso|?|Int64|Carga horária total do curso em horas|S|?|?|\n",
        "|14|Código do Tipo da Formação Superior|?|Int64|Código identificador da formação superior. Ex:   35- Pós-Graduação;  36- Mestrado;  37- Doutorado. |S|?|?|\n",
        "|15|Texto do Tipo da Formação Superior|?|object|Descrição da formação superior. |S|?|?|\n",
        "|16|Código da Modalidade do Curso|?|Int64|Indica o código da modalidade do curso. Sendo: 01 - Presencial; 02 - Auto-instrucional; 03 - Em serviço; 09 - A regularizar |N|?|?|\n",
        "|17|Código do Nível do Curso|?|Int64|Identificador do tipo do nível do curso (enfoque de aprendizagem). Sendo: 01 - Fundamental; 02 - Instrumental; 03 - Estratégico; 04 - Acadêmico; 09 - A classificar. |N|?|?|\n",
        "|18|Código da Natureza do Curso|?|Int64|Identificador da natureza do curso. 01 - Atualização; 02 - Formação; 03 - Aperfeiçoamento; 04 - Qualificação. |N|?|?|\n",
        "|19|Código do Tipo de Origem do Curso|?|Int64|Código dos tipos de origem do curso. 01 - Desenvolvido pelo banco; 02 - Contratado no mercado; 03 - Em parceria |N|?|?|\n",
        "|20|Código do Tipo de Público|?|Int64|Código dos tipos de público (participação) que o curso pode ter. Ex.: 1- Interno;  2- externo; 3- misto. |N|?|?|\n",
        "|21|Indicador de Vigência do Curso|?|object|Indica a utilização do curso. Possíveis valores: \"S\" - (SIM) Em Linha; \"N\" - (NÃO) Fora de linha |N|?|?|\n",
        "|22|Indicador de Trilha de Estratégica|?|object|Indica se o curso faz parte da Trilha de Estratégica de Capacitação. Possíveis valores: \"S\" - (SIM); \"N\" - (NÃO)|N|?|?|\n",
        "|23|Nome da Etapa|?|object|Descrição do tema da etapa de capacitação para os cursos que fazem parte da Trilha Estratégica. Possíveis valores: ASG, NEGOCIOS, LIDERANCA, TRANSFORMACAO DIGITAL. Formato: caixa alta, sem acentuação.|S|?|?|\n",
        "\n",
        "<b>Regra 1:</b> todas as colunas de texto devem ser formatadas conforme o padrão caixa alta e sem acento.\n",
        "\n",
        "<b>Regra 2:</b> os registros das colunas de texto que contiverem nulos deverão permanecer nulos ao final das transformações.\n",
        "\n",
        "<b>Regra 3:</b> excluir registros que atendam a alguma das regras abaixo:\n",
        "\n",
        "- quando o Texto do Objetivo do Curso for igual a 'TESTE EDUCA' ou 'TESTE GTD' ou 'TESTE' ou 'TESTANDO' ou 'DADFAFD' ou 'SGASDG' ou 'NXYZ' ou 'R';\n",
        "- quando o Texto do Objetivo do Curso for igual a 'A' e o Código da Área de Conhecimento for nulo;\n",
        "- quando o Nome do Curso contiver 'EXCEL TESTE' ou 'TESTE DISCIPLINA' ou 'EXCLUIR' ou 'ALURA';\n",
        "- quando o Nome do curso for contiver 'TESTE' e o Código da Área de Conhecimento for nulo, com exceção do curso 7740;\n",
        "- quando o Nome do curso for contiver 'TESTE' e o Texto do Objetivo do Curso for igual a '.';\n",
        "- quando o Texto do Curso contiver 'TESTE MATERIAL' ou 'TESTE GERAL'.\n",
        "- quando o Nome do curso ou o Texto do Curso contiverem 'EXCLUIDO'."
      ],
      "metadata": {
        "tags": [],
        "id": "cdb5bbd0-df5e-48af-be01-5afb158d478a"
      },
      "id": "cdb5bbd0-df5e-48af-be01-5afb158d478a"
    },
    {
      "cell_type": "code",
      "source": [],
      "metadata": {
        "id": "2b30d9b9-cdce-4f01-825c-c29838a9c319"
      },
      "execution_count": null,
      "outputs": [],
      "id": "2b30d9b9-cdce-4f01-825c-c29838a9c319"
    },
    {
      "cell_type": "code",
      "source": [],
      "metadata": {
        "id": "08b192a7-cc92-4e0e-84e6-c9b9d8854861"
      },
      "execution_count": null,
      "outputs": [],
      "id": "08b192a7-cc92-4e0e-84e6-c9b9d8854861"
    },
    {
      "cell_type": "code",
      "source": [],
      "metadata": {
        "id": "ef26a7a3-f31f-49ae-ab13-bf5cfce61306"
      },
      "execution_count": null,
      "outputs": [],
      "id": "ef26a7a3-f31f-49ae-ab13-bf5cfce61306"
    },
    {
      "cell_type": "code",
      "source": [],
      "metadata": {
        "id": "4f712a5e-9d1e-4969-9914-75f5e0ec251a"
      },
      "execution_count": null,
      "outputs": [],
      "id": "4f712a5e-9d1e-4969-9914-75f5e0ec251a"
    },
    {
      "cell_type": "markdown",
      "source": [
        "# Exercício 7 - Nova tabela de UOR\n",
        "\n",
        "<b>Nível de dificuldade (1 a 5):</b> 4\n",
        "\n",
        "<b>Requisitos:</b> exercícios 1 e 2\n",
        "\n",
        "Criar um DataFrame Pandas chamado <b>exercicio7</b> contendo as informações das UOR e Vice-Presidência jurisdicionante, conforme abaixo:\n",
        "\n",
        "||Nome Lógico|Nome Físico|Formato|Descrição|Aceita Nulos|Tabela Origem|Atributo Origem|\n",
        "|---|---|---|---|---|---|---|---|\n",
        "|1|Código da Dependência da Unidade Organizacional|?|Int64|Código identificador de Dependências de Instituições Organizacionais. No BB atualmente é utilizado os domínios entre 1 e 9999.|N|?|?\n",
        "|2|Código da Unidade Organizacional|?|Int64|Código identificador de Unidade Organizacional (UOR) do conglomerado Banco do Brasil (no Brasil e Exterior) ou UOR externas que o BB tenha algum tipo de relacionamento ou interesse em identificá-las.|N|?|?\n",
        "|3|Sigla da Unidade Organizacional|?|object|Reunião das letras iniciais dos vocábulos fundamentais de uma denominação ou título, sem articulação prosódica, constituindo meras abreviaturas. Ex.: \"DITEC\", \"GBASE\", \"DIREO\", \"PRESI\", etc.|S|?|?\n",
        "|4|Nome da Unidade Organizacional Reduzido|?|object|Nome reduzido da Unidade Organizacional.|N|?|?\n",
        "|5|Código da Dependência da Vice-Presidência|?|Int64|Código identificador da Dependência da Vice-Presidência jurisdicionante da UOR.|S|?|?\n",
        "|6|Sigla da Vice-Presidência|?|object|Sigla da Vice-Presidência jurisdicionante da UOR.|S|?|?\n",
        "\n",
        "<b>Regra:</b> considere apenas as UORs cujo Item de Arquitetura corresponda a \"DIRETORIA\" ou \"UNIDADE\".\n",
        "\n",
        "<b>Dica:</b> atenção no momento de fazer a junção das tabelas de UOR e Vínculo de UOR. Lembrando que uma mesma dependência possui várias UORs além da principal. Consulte a documentação das tabelas."
      ],
      "metadata": {
        "tags": [],
        "id": "74ae8405-17db-4826-9a83-48553435f350"
      },
      "id": "74ae8405-17db-4826-9a83-48553435f350"
    },
    {
      "cell_type": "code",
      "source": [],
      "metadata": {
        "id": "13ce2e79-a47f-44b0-9c51-07c4314eff31"
      },
      "execution_count": null,
      "outputs": [],
      "id": "13ce2e79-a47f-44b0-9c51-07c4314eff31"
    },
    {
      "cell_type": "code",
      "source": [],
      "metadata": {
        "id": "d9e51f43-a48b-4b22-ba9d-06e9994210ce"
      },
      "execution_count": null,
      "outputs": [],
      "id": "d9e51f43-a48b-4b22-ba9d-06e9994210ce"
    },
    {
      "cell_type": "code",
      "source": [],
      "metadata": {
        "id": "36b54f61-2da0-400b-82a6-034657897251"
      },
      "execution_count": null,
      "outputs": [],
      "id": "36b54f61-2da0-400b-82a6-034657897251"
    },
    {
      "cell_type": "markdown",
      "source": [
        "# Exercício 8 - Verificação do cumprimento do indicador - Parte 1\n",
        "\n",
        "<b>Nível de dificuldade (1 a 5):</b> 4\n",
        "\n",
        "<b>Requisitos:</b> exercícios 4 e 6\n",
        "\n",
        "Criar um DataFrame Pandas chamado <b>exercicio8</b> contendo as informações consolidadas de todos os funcionários dos prefixos alvo da análise, conforme abaixo:\n",
        "\n",
        "||Nome Lógico|Nome Físico|Formato|Descrição|Aceita Nulos|Tabela Origem|Atributo Origem|\n",
        "|---|---|---|---|---|---|---|---|\n",
        "|1|Código da Matrícula do Funcionário|?|Int64|Código da matrícula (F) do funcionário. |N|?|?|\n",
        "|2|Código da Unidade Organizacional de Localização|?|Int64|Código da UOR de localização do funcionário.|N|?|?|\n",
        "|3|Quantidade Total de Cursos|?|Int64|Quantidade total de cursos realizados pelo funcionário no ano atual|N|?|?|\n",
        "|4|Quantidade Total de Cursos da Trilha|?|Int64|Quantidade total de cursos da Trilha Estratégica realizados pelo funcionário até o momento|N|?|?|\n",
        "|5|Quantidade Total de Horas no Primeiro Semestre|?|Int64|Quantidade total de horas de treinamento realizadas pelo funcionário no primeiro semestre do ano atual|N|?|?|\n",
        "|6|Quantidade Total de Horas da Trilha no Primeiro Semestre|?|Int64|Quantidade total de horas de treinamento da Trilha Estratégica realizadas pelo funcionário no primeiro semestre do ano atual|N|?|?|\n",
        "|7|Quantidade Total de Horas no Segundo Semestre|?|Int64|Quantidade total de horas de treinamento realizadas pelo funcionário no segundo semestre do ano atual|N|?|?|\n",
        "|8|Quantidade Total de Horas da Trilha no Segundo Semestre|?|Int64|Quantidade total de horas de treinamento da Trilha Estratégica realizadas pelo funcionário no segundo semestre do ano atual|N|?|?|\n",
        "|9|Indicador de Cumprimento Total da Trilha no Primeiro Semestre|?|object|Indicador que sinaliza se o funcionário realizou todos os cursos da Trilha Estratégica até o primeiro semestre. Possíveis valores: \"S\" ou \"N\".|N|?|?|\n",
        "|10|Indicador de Cumprimento Total da Trilha no Segundo Semestre|?|object|Indicador que sinaliza se o funcionário realizou todos os cursos da Trilha Estratégica até o semestre. Possíveis valores: \"S\" ou \"N\".|N|?|?|\n",
        "\n",
        "<b>Regra1:</b> ignorar os cursos para os quais não houver informação sobre a Carga Horária.\n",
        "\n",
        "<b>Regra2:</b> atentar para a ocorrência de registros duplicados.\n",
        "\n",
        "<b>Dica:</b> verifique os prefixos alvo da análise na descrição do desafio."
      ],
      "metadata": {
        "id": "fd2aa4df-e4f6-414d-8a58-8e9c70431e27"
      },
      "id": "fd2aa4df-e4f6-414d-8a58-8e9c70431e27"
    },
    {
      "cell_type": "code",
      "source": [],
      "metadata": {
        "id": "87ec1a4d-a839-4ad7-96b4-2b74da023076"
      },
      "execution_count": null,
      "outputs": [],
      "id": "87ec1a4d-a839-4ad7-96b4-2b74da023076"
    },
    {
      "cell_type": "code",
      "source": [],
      "metadata": {
        "id": "57328271-0084-41ec-be62-31c5829c5de3"
      },
      "execution_count": null,
      "outputs": [],
      "id": "57328271-0084-41ec-be62-31c5829c5de3"
    },
    {
      "cell_type": "code",
      "source": [],
      "metadata": {
        "id": "ef476112-f7fb-41ba-8ccf-3c48b302e70a"
      },
      "execution_count": null,
      "outputs": [],
      "id": "ef476112-f7fb-41ba-8ccf-3c48b302e70a"
    },
    {
      "cell_type": "markdown",
      "source": [
        "# Exercício 9 - Verificação do cumprimento do indicador - Parte 2\n",
        "\n",
        "<b>Nível de dificuldade (1 a 5):</b> 5\n",
        "\n",
        "<b>Requisitos:</b> exercício 8\n",
        "\n",
        "Criar um DataFrame Pandas chamado <b>exercicio9</b> contendo todas as informações do exercício 8 mais os atributos relacionados abaixo:\n",
        "\n",
        "||Nome Lógico|Nome Físico|Formato|Descrição|Aceita Nulos|Tabela Origem|Atributo Origem|\n",
        "|---|---|---|---|---|---|---|---|\n",
        "|10|Indicador de Funcionário Avaliável no Primeiro Semestre|?|object|Indicador que sinaliza se o funcionário é avaliável no primeiro semestre.|N|?|?|\n",
        "|11|Indicador de Funcionário Avaliável no Segundo Semestre|?|object|Indicador que sinaliza se o funcionário é avaliável no segundo semestre.|N|?|?|\n",
        "\n",
        "<b>Regra 1:</b> os funcionários que atenderem às situações abaixo elencadas serão considerados \"Não avaliáveis\"\n",
        "- Permanecerem por mais de 90 dias em situação diferente de 100-Força de Trabalho Real no semestre.\n",
        "- Atuarem como colaboradores (Disponibilidade ou Cessão) ou adidos por mais de 90 dias no semestre.\n",
        "- Cujo total de dias em situação diferente de 100-Força de Trabalho Real somado ao total de dias em colaboração (Disponibilidade ou Cessão) for maior que 90 dias.\n",
        "- Estiverem em situação de colaboração ou adição no encerramento da apuração semestral (fechamento do semestre: 30/06/2024 ou 31/12/2024)\n",
        "- Funcionários empossados no BB há menos de 90 dias no encerramento da apuração semestral.\n",
        "\n",
        "<b>Regra 2:</b> para fins de apuração do indicador de Capacitação Estratégica, considere:\n",
        "- como colaboração os funcis que apresentarem situação \"DISP\" ou \"ADIDOS\" ou \"CEDIDOS\", exceto folga.\n",
        "- como situação diferente de 100-Força de Trabalho Real apenas as situações que contemplarem:\n",
        "  - Licença Saúde (LS)\n",
        "  - Licença Interesse\n",
        "  - Licença Maternidade\n",
        "  - Licença Paternidade\n",
        "  - Nascimento de Filho - Pai\n",
        "  - Licença para assistência a pessoa enferna da família (LIC.P/AS.PES.ENF.FAM-70% PR)"
      ],
      "metadata": {
        "id": "372d2207-0b07-49d7-be38-6b02fd0cbf01"
      },
      "id": "372d2207-0b07-49d7-be38-6b02fd0cbf01"
    },
    {
      "cell_type": "code",
      "source": [],
      "metadata": {
        "id": "7b4418c5-c72a-4fd1-939c-49fb640a8aba"
      },
      "execution_count": null,
      "outputs": [],
      "id": "7b4418c5-c72a-4fd1-939c-49fb640a8aba"
    },
    {
      "cell_type": "code",
      "source": [],
      "metadata": {
        "id": "9cecbf30-a1cf-4d39-a623-78aaa4e2e218"
      },
      "execution_count": null,
      "outputs": [],
      "id": "9cecbf30-a1cf-4d39-a623-78aaa4e2e218"
    },
    {
      "cell_type": "code",
      "source": [],
      "metadata": {
        "id": "04a91a1e-591c-4f82-b8e3-4ba07fd06ac7"
      },
      "execution_count": null,
      "outputs": [],
      "id": "04a91a1e-591c-4f82-b8e3-4ba07fd06ac7"
    },
    {
      "cell_type": "markdown",
      "source": [
        "# Exercício 10 - Cumprimento do indicador por prefixo\n",
        "\n",
        "<b>Nível de dificuldade (1 a 5):</b> 5\n",
        "\n",
        "<b>Requisitos:</b> exercício 9\n",
        "\n",
        "<b><<< Parte 1 >>></b>\n",
        "\n",
        "Criar um DataFrame Pandas chamado <b>exercicio10</b> contendo a consolidação das informações das UORs:\n",
        "\n",
        "||Nome Lógico|Nome Físico|Formato|Descrição|Aceita Nulos|Tabela Origem|Atributo Origem|\n",
        "|---|---|---|---|---|---|---|---|\n",
        "|1|Código da Dependência da Unidade Organizacional|?|Int64|Código identificador de Dependências de Instituições Organizacionais. No BB atualmente é utilizado os domínios entre 1 e 9999.|N|?|?|\n",
        "|2|Código da Unidade Organizacional|?|Int64|Código identificador de Unidade Organizacional (UOR) do conglomerado Banco do Brasil (no Brasil e Exterior) ou UOR externas que o BB tenha algum tipo de relacionamento ou interesse em identificá-las.|N|?|?|\n",
        "|3|Sigla da Unidade Organizacional|?|object|Reunião das letras iniciais dos vocábulos fundamentais de uma denominação ou título, sem articulação prosódica, constituindo meras abreviaturas. Ex.: \"DITEC\", \"GBASE\", \"DIREO\", \"PRESI\", etc.|N|?|?|\n",
        "|4|Nome da Unidade Organizacional Reduzido|?|object|Nome reduzido da Unidade Organizacional.|N|?|?|\n",
        "|5|Código da Dependência da Vice-Presidência|?|Int64|Código identificador da Dependência da Vice-Presidência jurisdicionante da UOR.|N|?|?|\n",
        "|6|Sigla da Vice-Presidência|?|object|Sigla da Vice-Presidência jurisdicionante da UOR.|N|?|?\n",
        "|7|Quantidade Total de Funcionários da Unidade Organizacional|?|Int64|Quantidade total de funcionários localizados na UOR|N|?|?|\n",
        "|8|Indicador de Unidade Organizacional Alvo da Análise|?|object|Indica se a UOR é alvo da análise. Possíveis valores: \"S\" ou \"N\". |N|?|?|\n",
        "|9|Índice de Atingimento do Indicador no Primeiro Semestre|?|float64|Indicativo do percentual de atingimento do indicador no primeiro semestre, caso a UOR seja alvo da análise. Varia de 0 a 1, com duas casas decimais.|S|?|?|\n",
        "|10|Índice de Atingimento do Indicador no Segundo Semestre|?|float64|Indicativo do percentual de atingimento do indicador no segundo semestre, caso a UOR seja alvo da análise. Varia de 0 a 1, com duas casas decimais.|S|?|?|\n",
        "\n",
        "<b>Regras gerais:</b>\n",
        "    \n",
        "- deverão ser listadas apenas as UORs que possuem Vice-Presidência vinculada.\n",
        "\n",
        "- verifique os prefixos alvo da análise na descrição do desafio.\n",
        "\n",
        "Considere as regras abaixo para apuração do cumprimento do indicador para cada um dos prefixos alvo da análise:\n",
        "\n",
        "<b>Regras de apuração individual</b>: o indicador será considerado cumprido para os funcionários que:\n",
        "- completarem o mínimo de 20 horas total de cursos, sendo no mínimo 10h de treinamentos da Trilha Estratégica, realizados dentro do semestre de apuração\n",
        "- tiverem cumprido toda a Trilha Estratégica na data de apuração, desde que tenha cumprido o mínimo de 20 horas total no semestre de apuração\n",
        "\n",
        "<b>Regra de apuração por prefixo</b>: o indicador será considerado cumprido para os prefixos que tiverem 90% do público avaliável com o indicador cumprido no semestre.\n",
        "\n",
        "<b><<< Parte 2 >>></b>\n",
        "\n",
        "Considerando as regras de apuração acima, responda às perguntas abaixo tomando por base a apuração do primeiro semestre:\n",
        "\n",
        "    a) quais os prefixos que cumpriram o indicador?\n",
        "\n",
        "    b) qual o prefixo com menor índice de cumprimento do indicador?\n",
        "\n",
        "    c) qual o prefixo com o maior índice de cumprimento do indicador?\n",
        "\n",
        "    d) qual o prefixo com o menor índice de funcionários não avaliáveis?\n",
        "\n",
        "    e) qual o maior índice de funcionários não avaliáveis dentre os observados nos prefixos avaliados?\n",
        "\n",
        "Ao final do exercício, deverá ser criada uma variável para cada um dos itens acima, sendo o nome e o tipo delas conforme abaixo detalhado:\n",
        "\n",
        "|Item|Nome da variável|Tipo de objeto|\n",
        "|---|---|---|\n",
        "|a)|exercicio10a|variável do tipo list, itens do tipo int|\n",
        "|b)|exercicio10b|int|\n",
        "|c)|exercicio10c|int|\n",
        "|d)|exercicio10d|int|\n",
        "|e)|exercicio10e|float (2casas decimais)|\n",
        "\n",
        "<b>Regra 1:</b> utilize a função round() para eventuais arredondamentos.\n",
        "\n",
        "<b>Regra 2:</b> em caso de empate, o desempate será pela maior quantidade de funcionários avaliáveis no prefixo."
      ],
      "metadata": {
        "id": "fcf1e379-e0e7-4d8c-9a3d-aa66f6fc1260"
      },
      "id": "fcf1e379-e0e7-4d8c-9a3d-aa66f6fc1260"
    },
    {
      "cell_type": "code",
      "source": [],
      "metadata": {
        "id": "d5a2ec03-f224-43d8-a73a-b778bed453f5"
      },
      "execution_count": null,
      "outputs": [],
      "id": "d5a2ec03-f224-43d8-a73a-b778bed453f5"
    },
    {
      "cell_type": "code",
      "source": [],
      "metadata": {
        "id": "15d6a03b-5908-4bc5-9197-051c54bc81ca"
      },
      "execution_count": null,
      "outputs": [],
      "id": "15d6a03b-5908-4bc5-9197-051c54bc81ca"
    },
    {
      "cell_type": "code",
      "source": [],
      "metadata": {
        "id": "2cfe3d1d-f069-48c8-b7b4-1a899723c8e3"
      },
      "execution_count": null,
      "outputs": [],
      "id": "2cfe3d1d-f069-48c8-b7b4-1a899723c8e3"
    },
    {
      "cell_type": "markdown",
      "source": [
        "# Boletim de soluções"
      ],
      "metadata": {
        "id": "c4755e98-adca-453c-b18a-009ea735f02a"
      },
      "id": "c4755e98-adca-453c-b18a-009ea735f02a"
    },
    {
      "cell_type": "code",
      "source": [
        "# importar bibliotecas para geração dos artefatos\n",
        "import pickle"
      ],
      "metadata": {
        "id": "c440f300-e97f-413c-82e0-c27fd9d378cd"
      },
      "execution_count": null,
      "outputs": [],
      "id": "c440f300-e97f-413c-82e0-c27fd9d378cd"
    },
    {
      "cell_type": "code",
      "source": [
        "# Favor não alterar esta célula\n",
        "# verificar a existência das variáveis e gerar artefatos para verificação\n",
        "if 'exercicio1' in globals():\n",
        "    print('DataFrame exercicio1 localizado. Ele poderá ser enviado para validação.')\n",
        "    with open(f'{chaveF}_exercicio1.pkl','wb') as f:\n",
        "        pickle.dump(exercicio1, f)\n",
        "else:\n",
        "    print('O exercício 1 não tem condições de ser avaliado.')\n",
        "\n",
        "if 'exercicio2' in globals():\n",
        "    print('DataFrame exercicio2 localizado. Ele poderá ser enviado para validação.')\n",
        "    with open(f'{chaveF}_exercicio2.pkl','wb') as f:\n",
        "        pickle.dump(exercicio2, f)\n",
        "else:\n",
        "    print('O exercício 2 não tem condições de ser avaliado.')\n",
        "\n",
        "if 'exercicio3' in globals():\n",
        "    print('DataFrame exercicio3 localizado. Ele poderá ser enviado para validação.')\n",
        "    with open(f'{chaveF}_exercicio3.pkl','wb') as f:\n",
        "        pickle.dump(exercicio3, f)\n",
        "else:\n",
        "    print('O exercício 3 não tem condições de ser avaliado.')\n",
        "\n",
        "if 'exercicio4' in globals():\n",
        "    print('DataFrame exercicio4 localizado. Ele poderá ser enviado para validação.')\n",
        "    with open(f'{chaveF}_exercicio4.pkl','wb') as f:\n",
        "        pickle.dump(exercicio4, f)\n",
        "else:\n",
        "    print('O exercício 4 não tem condições de ser avaliado.')\n",
        "\n",
        "if 'exercicio5' in globals():\n",
        "    print('DataFrame exercicio5 localizado. Ele poderá ser enviado para validação.')\n",
        "    with open(f'{chaveF}_exercicio5.pkl','wb') as f:\n",
        "        pickle.dump(exercicio5, f)\n",
        "else:\n",
        "    print('O exercício 5 não tem condições de ser avaliado.')\n",
        "\n",
        "if 'exercicio6' in globals():\n",
        "    print('DataFrame exercicio6 localizado. Ele poderá ser enviado para validação.')\n",
        "    with open(f'{chaveF}_exercicio6.pkl','wb') as f:\n",
        "        pickle.dump(exercicio6, f)\n",
        "else:\n",
        "    print('O exercício 6 não tem condições de ser avaliado.')\n",
        "\n",
        "if 'exercicio7' in globals():\n",
        "    print('DataFrame exercicio7 localizado. Ele poderá ser enviado para validação.')\n",
        "    with open(f'{chaveF}exercicio7.pkl','wb') as f:\n",
        "        pickle.dump(exercicio7, f)\n",
        "else:\n",
        "    print('O exercício 7 não tem condições de ser avaliado.')\n",
        "\n",
        "if 'exercicio8' in globals():\n",
        "    print('DataFrame exercicio8 localizado. Ele poderá ser enviado para validação.')\n",
        "    with open(f'{chaveF}exercicio8.pkl','wb') as f:\n",
        "        pickle.dump(exercicio8, f)\n",
        "else:\n",
        "    print('O exercício 8 não tem condições de ser avaliado.')\n",
        "\n",
        "if 'exercicio9' in globals():\n",
        "    print('DataFrame exercicio9 localizado. Ele poderá ser enviado para validação.')\n",
        "    with open(f'{chaveF}exercicio9.pkl','wb') as f:\n",
        "        pickle.dump(exercicio9, f)\n",
        "else:\n",
        "    print('O exercício 9 não tem condições de ser avaliado.')\n",
        "\n",
        "\n",
        "exercicio10_variaveis = {}\n",
        "\n",
        "exercicio10_variaveis['variavel'] = []\n",
        "exercicio10_variaveis['valor'] = []\n",
        "if 'exercicio10a' in globals():\n",
        "    exercicio10_variaveis['variavel'].append('exercicio10a')\n",
        "    exercicio10_variaveis['valor'].append(exercicio10a)\n",
        "if 'exercicio10b' in globals():\n",
        "    exercicio10_variaveis['variavel'].append('exercicio10b')\n",
        "    exercicio10_variaveis['valor'].append(exercicio10b)\n",
        "if 'exercicio10b' in globals():\n",
        "    exercicio10_variaveis['variavel'].append('exercicio10c')\n",
        "    exercicio10_variaveis['valor'].append(exercicio10c)\n",
        "if 'exercicio10d' in globals():\n",
        "    exercicio10_variaveis['variavel'].append('exercicio10d')\n",
        "    exercicio10_variaveis['valor'].append(exercicio10d)\n",
        "if 'exercicio10e' in globals():\n",
        "    exercicio10_variaveis['variavel'].append('exercicio10e')\n",
        "    exercicio10_variaveis['valor'].append(exercicio10e)\n",
        "\n",
        "exercicio10_variaveis = pd.DataFrame(exercicio10_variaveis)\n",
        "if exercicio10_variaveis.shape[0] == 5 and 'exercicio10' in globals():\n",
        "    print('DataFrame exercicio10 localizado. Ele poderá ser enviado para validação.')\n",
        "    print('Variáveis exercicio10a, exercicio10b, exercicio10c, exercicio10d e exercicio10e localizadas. Elas poderão ser enviadas para validação.')\n",
        "    exercicio10_variaveis.to_csv(f'{chaveF}_exercicio10_variaveis.csv', header=True, sep=',', index=False)\n",
        "    with open(f'{chaveF}exercicio10.pkl','wb') as f:\n",
        "        pickle.dump(exercicio10, f)\n",
        "\n",
        "else:\n",
        "    print('O exercício 10 não tem condições de ser avaliado.')"
      ],
      "metadata": {
        "trusted": true,
        "id": "07852ba0-8f84-45a2-b8c0-9b846374fed3"
      },
      "execution_count": null,
      "outputs": [],
      "id": "07852ba0-8f84-45a2-b8c0-9b846374fed3"
    },
    {
      "cell_type": "code",
      "source": [],
      "metadata": {
        "id": "39f3c265-c249-4803-b508-18a58875a28a"
      },
      "execution_count": null,
      "outputs": [],
      "id": "39f3c265-c249-4803-b508-18a58875a28a"
    }
  ]
}